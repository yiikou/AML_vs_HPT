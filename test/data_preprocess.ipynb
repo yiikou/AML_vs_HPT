{
 "cells": [
  {
   "cell_type": "markdown",
   "metadata": {},
   "source": [
    "# Data source\n",
    "https://github.com/awsm-research/Rnalytica/tree/master/R\n",
    "\n",
    "## Select condition:\n",
    "    * EPV>10 \n",
    "    * Defective ratio <50\n",
    "    \n",
    "Suggested data: eclipse-2.0 \n",
    "   \n"
   ]
  },
  {
   "cell_type": "code",
   "execution_count": null,
   "metadata": {},
   "outputs": [],
   "source": [
    "install.packages('devtools')\n",
    "devtools::install_github('software-analytics/Rnalytica')\n"
   ]
  },
  {
   "cell_type": "code",
   "execution_count": null,
   "metadata": {},
   "outputs": [],
   "source": [
    "library(Rnalytica)\n",
    "subset(listDataset,EPV >10 & DefectiveRatio <50)"
   ]
  },
  {
   "cell_type": "markdown",
   "metadata": {},
   "source": [
    "            system  corpus DefectiveRatio Modules Defective Predictors       EPV\n",
    "10   derby-10.2.1.6    jira      33.672950    1963       661         65  10.16923\n",
    "11   derby-10.3.1.4    jira      30.326383    2206       669         65  10.29231\n",
    "39              JM1  mccabe      21.485479    7782      1672         21  79.61905\n",
    "49              PC5  mccabe      27.527762    1711       471         38  12.39474\n",
    "58        camel-1.2      ck      35.526316     608       216         20  10.80000\n",
    "90           prop-1      ck      14.823236   18471      2738         20 136.90000\n",
    "91           prop-2      ck      10.563135   23014      2431         20 121.55000\n",
    "92           prop-3      ck      11.485303   10274      1180         20  59.00000\n",
    "93           prop-4      ck       9.635237    8718       840         20  42.00000\n",
    "94           prop-5      ck      15.253640    8516      1299         20  64.95000\n",
    "113       xalan-2.5      ck      48.194271     803       387         20  19.35000\n",
    "114       xalan-2.6      ck      46.440678     885       411         20  20.55000\n",
    "121     eclipse-2.0 eclipse      14.489523    6729       975         32  30.46875\n",
    "122     eclipse-2.1 eclipse      10.826572    7888       854         32  26.68750\n",
    "123     eclipse-3.0 eclipse      14.802228   10593      1568         32  49.00000\n",
    "125 eclipse34_debug     kim      24.694836    1065       263         17  15.47059\n",
    "126   eclipse34_swt     kim      43.973064    1485       653         17  38.41176\n",
    "130             jdt  ambros      20.661986     997       206         15  13.73333\n",
    "132           mylyn  ambros      13.157895    1862       245         15  16.33333\n",
    "133             pde  ambros      13.961256    1497       209         15  13.93333"
   ]
  },
  {
   "cell_type": "code",
   "execution_count": null,
   "metadata": {},
   "outputs": [],
   "source": [
    "Data = loadDefectDataset('eclipse-2.0')\n"
   ]
  },
  {
   "cell_type": "markdown",
   "metadata": {},
   "source": [
    "# Generate Binary Label\n",
    "\n",
    "If no of defects >=1 then 'Defective' else 'Non-defective'"
   ]
  },
  {
   "cell_type": "code",
   "execution_count": null,
   "metadata": {},
   "outputs": [],
   "source": []
  },
  {
   "cell_type": "code",
   "execution_count": null,
   "metadata": {},
   "outputs": [],
   "source": []
  },
  {
   "cell_type": "markdown",
   "metadata": {},
   "source": [
    "# Bootstrap"
   ]
  }
 ],
 "metadata": {
  "kernelspec": {
   "display_name": "R",
   "language": "R",
   "name": "ir"
  }
 },
 "nbformat": 4,
 "nbformat_minor": 2
}
