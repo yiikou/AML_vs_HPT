{
 "cells": [
  {
   "cell_type": "code",
   "execution_count": 26,
   "metadata": {},
   "outputs": [],
   "source": [
    "import pickle\n",
    "a_important_map=pickle.load( open('a_important_map', 'rb'))\n",
    "h_important_map=pickle.load( open('h_important_map', 'rb'))\n",
    "\n"
   ]
  },
  {
   "cell_type": "code",
   "execution_count": 20,
   "metadata": {},
   "outputs": [
    {
     "data": {
      "text/plain": [
       "'rfc'"
      ]
     },
     "execution_count": 20,
     "metadata": {},
     "output_type": "execute_result"
    }
   ],
   "source": [
    "dfs[0]['Feature'][0:5][1]\n"
   ]
  },
  {
   "cell_type": "code",
   "execution_count": 50,
   "metadata": {
    "scrolled": true
   },
   "outputs": [
    {
     "name": "stdout",
     "output_type": "stream",
     "text": [
      "camel_1_2\n",
      "\n",
      "cbm\n",
      "max_cc\n",
      "   moa\n",
      "   npm\n",
      "   noc\n",
      "\n",
      "eclipse_2_0\n",
      "\n",
      "pre\n",
      "    TLOC\n",
      "FOUT_sum\n",
      "  CC_max\n",
      "MLOC_max\n",
      "\n",
      "eclipse_3_0\n",
      "\n",
      "pre\n",
      "   TLOC\n",
      "NSM_avg\n",
      "NBD_sum\n",
      " CC_sum\n",
      "\n",
      "prop_2\n",
      "\n",
      "mfa\n",
      "   cam\n",
      "avg_cc\n",
      "    ca\n",
      "   loc\n",
      "\n",
      "xalan_2_6\n",
      "\n",
      "loc\n",
      "rfc\n",
      "amc\n",
      "noc\n",
      "cbo\n",
      "\n"
     ]
    }
   ],
   "source": [
    "import pandas as pd\n",
    "a_top5={}\n",
    "for dataset,imp in a_important_map.items():\n",
    "    html_string=a_important_map[dataset].data.replace('\\n','')\n",
    "    dfs = pd.read_html(html_string)\n",
    "    \n",
    "\n",
    "    print(dataset.split(\"defect_\")[1]+'\\n')\n",
    "    print(dfs[0]['Feature'][0:5].to_string(index=False)+'\\n')\n",
    "    a_top5[dataset.split('defect_')[1]] = list(dfs[0]['Feature'])\n"
   ]
  },
  {
   "cell_type": "code",
   "execution_count": 51,
   "metadata": {
    "scrolled": true
   },
   "outputs": [
    {
     "data": {
      "text/plain": [
       "{'camel_1_2': ['cbm',\n",
       "  'max_cc',\n",
       "  'moa',\n",
       "  'npm',\n",
       "  'noc',\n",
       "  'cbo',\n",
       "  'dam',\n",
       "  'avg_cc',\n",
       "  'lcom',\n",
       "  'ic',\n",
       "  'wmc',\n",
       "  'cam',\n",
       "  'ca',\n",
       "  'lcom3',\n",
       "  'dit',\n",
       "  'rfc',\n",
       "  'amc',\n",
       "  'mfa',\n",
       "  'loc',\n",
       "  'ce'],\n",
       " 'eclipse_2_0': ['pre',\n",
       "  'TLOC',\n",
       "  'FOUT_sum',\n",
       "  'CC_max',\n",
       "  'MLOC_max',\n",
       "  'NBD_sum',\n",
       "  'NBD_avg',\n",
       "  'PAR_avg',\n",
       "  'CC_sum',\n",
       "  'MLOC_sum',\n",
       "  'FOUT_avg',\n",
       "  'PAR_max',\n",
       "  'MLOC_avg',\n",
       "  'NSM_sum',\n",
       "  'NSM_avg',\n",
       "  'PAR_sum',\n",
       "  'NSM_max',\n",
       "  'NOM_max',\n",
       "  'FOUT_max',\n",
       "  'NOM_sum',\n",
       "  nan],\n",
       " 'eclipse_3_0': ['pre',\n",
       "  'TLOC',\n",
       "  'NSM_avg',\n",
       "  'NBD_sum',\n",
       "  'CC_sum',\n",
       "  'NOM_sum',\n",
       "  'NOM_avg',\n",
       "  'MLOC_avg',\n",
       "  'FOUT_max',\n",
       "  'PAR_avg',\n",
       "  'MLOC_sum',\n",
       "  'NBD_max',\n",
       "  'NSF_avg',\n",
       "  'NSF_max',\n",
       "  'PAR_sum',\n",
       "  'MLOC_max',\n",
       "  'PAR_max',\n",
       "  'NOI',\n",
       "  'NSM_sum',\n",
       "  'CC_max',\n",
       "  nan],\n",
       " 'prop_2': ['mfa',\n",
       "  'cam',\n",
       "  'avg_cc',\n",
       "  'ca',\n",
       "  'loc',\n",
       "  'amc',\n",
       "  'wmc',\n",
       "  'max_cc',\n",
       "  'dit',\n",
       "  'rfc',\n",
       "  'moa',\n",
       "  'cbo',\n",
       "  'noc',\n",
       "  'npm',\n",
       "  'dam',\n",
       "  'ic',\n",
       "  'lcom',\n",
       "  'cbm',\n",
       "  'lcom3',\n",
       "  'ce'],\n",
       " 'xalan_2_6': ['loc',\n",
       "  'rfc',\n",
       "  'amc',\n",
       "  'noc',\n",
       "  'cbo',\n",
       "  'ce',\n",
       "  'ca',\n",
       "  'mfa',\n",
       "  'npm',\n",
       "  'cam',\n",
       "  'wmc',\n",
       "  'lcom',\n",
       "  'cbm',\n",
       "  'dit',\n",
       "  'avg_cc',\n",
       "  'ic',\n",
       "  'dam',\n",
       "  'moa',\n",
       "  'lcom3',\n",
       "  'max_cc']}"
      ]
     },
     "execution_count": 51,
     "metadata": {},
     "output_type": "execute_result"
    }
   ],
   "source": [
    "a_top5"
   ]
  },
  {
   "cell_type": "code",
   "execution_count": 90,
   "metadata": {},
   "outputs": [],
   "source": [
    "def get_top3_overlap(list_1,list_2):\n",
    "    list_1=set(list_1[0:3])\n",
    "    list_2=set(list_2[0:3])\n",
    "    overlap = list_1.intersection(list_2).__len__()/ list_1.union(list_2).__len__()\n",
    "    return(overlap)\n"
   ]
  },
  {
   "cell_type": "code",
   "execution_count": 76,
   "metadata": {},
   "outputs": [],
   "source": [
    "list_1 = a_top5['eclipse_3_0'][0:5]\n",
    "list_2 = h_top5['eclipse_3_0_randomforest'][0:5]"
   ]
  },
  {
   "cell_type": "code",
   "execution_count": 77,
   "metadata": {},
   "outputs": [
    {
     "data": {
      "text/plain": [
       "0.25"
      ]
     },
     "execution_count": 77,
     "metadata": {},
     "output_type": "execute_result"
    }
   ],
   "source": [
    "get_top3_overlap(list_1,list_2)"
   ]
  },
  {
   "cell_type": "code",
   "execution_count": 67,
   "metadata": {},
   "outputs": [
    {
     "data": {
      "text/plain": [
       "{'CC_avg', 'FOUT_max', 'NBD_avg', 'TLOC', 'pre'}"
      ]
     },
     "execution_count": 67,
     "metadata": {},
     "output_type": "execute_result"
    }
   ],
   "source": [
    "list_1.union"
   ]
  },
  {
   "cell_type": "code",
   "execution_count": 68,
   "metadata": {},
   "outputs": [
    {
     "data": {
      "text/plain": [
       "{'CC_sum', 'NBD_sum', 'NSM_avg', 'TLOC', 'pre'}"
      ]
     },
     "execution_count": 68,
     "metadata": {},
     "output_type": "execute_result"
    }
   ],
   "source": [
    "list_1"
   ]
  },
  {
   "cell_type": "code",
   "execution_count": 52,
   "metadata": {},
   "outputs": [
    {
     "name": "stdout",
     "output_type": "stream",
     "text": [
      "H_eclipse_2_0_xgboost\n",
      "\n",
      "pre\n",
      " PAR_avg\n",
      " PAR_max\n",
      " NOM_avg\n",
      "FOUT_sum\n",
      "\n",
      "H_eclipse_2_0_randomforest\n",
      "\n",
      "pre\n",
      "  CC_max\n",
      " PAR_avg\n",
      "    TLOC\n",
      "MLOC_max\n",
      "\n",
      "H_eclipse_2_0_lr\n",
      "\n",
      "NSF_max\n",
      "NSF_sum\n",
      "    pre\n",
      "   TLOC\n",
      " CC_max\n",
      "\n",
      "H_camel_1_2_xgboost\n",
      "\n",
      "mfa\n",
      "avg_cc\n",
      "   moa\n",
      "   amc\n",
      "   rfc\n",
      "\n",
      "H_camel_1_2_randomforest\n",
      "\n",
      "max_cc\n",
      "    ca\n",
      "   mfa\n",
      "   amc\n",
      "   npm\n",
      "\n",
      "H_camel_1_2_lr\n",
      "\n",
      "npm\n",
      "   wmc\n",
      "   cbo\n",
      "   mfa\n",
      "avg_cc\n",
      "\n",
      "H_eclipse_3_0_xgboost\n",
      "\n",
      "pre\n",
      "PAR_avg\n",
      "   TLOC\n",
      " CC_max\n",
      " CC_avg\n",
      "\n",
      "H_eclipse_3_0_randomforest\n",
      "\n",
      "pre\n",
      "FOUT_max\n",
      "    TLOC\n",
      "  CC_avg\n",
      " NBD_avg\n",
      "\n",
      "H_eclipse_3_0_lr\n",
      "\n",
      "pre\n",
      "   TLOC\n",
      "NSF_max\n",
      "NSF_sum\n",
      "NBD_sum\n",
      "\n",
      "H_prop_2_xgboost\n",
      "\n",
      "mfa\n",
      "   cam\n",
      "    ca\n",
      "avg_cc\n",
      "   loc\n",
      "\n",
      "H_prop_2_randomforest\n",
      "\n",
      "mfa\n",
      "amc\n",
      " ca\n",
      "loc\n",
      "cam\n",
      "\n",
      "H_prop_2_lr\n",
      "\n",
      "cbo\n",
      " ce\n",
      " ca\n",
      "wmc\n",
      "rfc\n",
      "\n",
      "H_xalan_2_6_xgboost\n",
      "\n",
      "loc\n",
      "mfa\n",
      "cam\n",
      "cbm\n",
      "amc\n",
      "\n",
      "H_xalan_2_6_randomforest\n",
      "\n",
      "mfa\n",
      "rfc\n",
      "amc\n",
      "loc\n",
      "noc\n",
      "\n",
      "H_xalan_2_6_lr\n",
      "\n",
      "npm\n",
      "  amc\n",
      "  cbm\n",
      "lcom3\n",
      "  cbo\n",
      "\n"
     ]
    }
   ],
   "source": [
    "h_top5={}\n",
    "\n",
    "for expname,imp in h_important_map.items():\n",
    "    html_string=h_important_map[expname].data.replace('\\n','')\n",
    "    dfs = pd.read_html(html_string)\n",
    "    \n",
    "    print(expname+'\\n')\n",
    "    print(dfs[0]['Feature'][0:5].to_string(index=False)+'\\n')\n",
    "    h_top5[expname.split('H_')[1]] = list(dfs[0]['Feature'])\n"
   ]
  },
  {
   "cell_type": "code",
   "execution_count": 96,
   "metadata": {
    "scrolled": true
   },
   "outputs": [
    {
     "name": "stdout",
     "output_type": "stream",
     "text": [
      "Dataset: camel_1_2| AML vs HPT (xgboost) =>20.00%\n",
      "Dataset: camel_1_2| AML vs HPT (randomforest) =>20.00%\n",
      "Dataset: camel_1_2| AML vs HPT (lr) =>0.00%\n",
      "Dataset: eclipse_2_0| AML vs HPT (xgboost) =>20.00%\n",
      "Dataset: eclipse_2_0| AML vs HPT (randomforest) =>20.00%\n",
      "Dataset: eclipse_2_0| AML vs HPT (lr) =>20.00%\n",
      "Dataset: eclipse_3_0| AML vs HPT (xgboost) =>50.00%\n",
      "Dataset: eclipse_3_0| AML vs HPT (randomforest) =>50.00%\n",
      "Dataset: eclipse_3_0| AML vs HPT (lr) =>50.00%\n",
      "Dataset: prop_2| AML vs HPT (xgboost) =>50.00%\n",
      "Dataset: prop_2| AML vs HPT (randomforest) =>20.00%\n",
      "Dataset: prop_2| AML vs HPT (lr) =>0.00%\n",
      "Dataset: xalan_2_6| AML vs HPT (xgboost) =>20.00%\n",
      "Dataset: xalan_2_6| AML vs HPT (randomforest) =>50.00%\n",
      "Dataset: xalan_2_6| AML vs HPT (lr) =>20.00%\n"
     ]
    }
   ],
   "source": [
    "for dataset in a_top5.keys():\n",
    "    for expname in h_top5.keys():\n",
    "        if dataset in expname:\n",
    "            print(\"Dataset: \"+dataset+\"| AML vs HPT (\" +expname.split(dataset+'_')[1] +\") =>{:.2%}\".format(get_top3_overlap(a_top5[dataset],h_top5[expname])));\n"
   ]
  },
  {
   "cell_type": "code",
   "execution_count": 91,
   "metadata": {},
   "outputs": [
    {
     "ename": "NameError",
     "evalue": "name 'percentage' is not defined",
     "output_type": "error",
     "traceback": [
      "\u001b[0;31m---------------------------------------------------------------------------\u001b[0m",
      "\u001b[0;31mNameError\u001b[0m                                 Traceback (most recent call last)",
      "\u001b[0;32m<ipython-input-91-775ac041201f>\u001b[0m in \u001b[0;36m<module>\u001b[0;34m\u001b[0m\n\u001b[0;32m----> 1\u001b[0;31m \u001b[0mpercentage\u001b[0m\u001b[0;34m(\u001b[0m\u001b[0mget_top3_overlap\u001b[0m\u001b[0;34m(\u001b[0m\u001b[0ma_top5\u001b[0m\u001b[0;34m[\u001b[0m\u001b[0mdataset\u001b[0m\u001b[0;34m]\u001b[0m\u001b[0;34m,\u001b[0m\u001b[0mh_top5\u001b[0m\u001b[0;34m[\u001b[0m\u001b[0mexpname\u001b[0m\u001b[0;34m]\u001b[0m\u001b[0;34m)\u001b[0m\u001b[0;34m)\u001b[0m\u001b[0;34m\u001b[0m\u001b[0m\n\u001b[0m",
      "\u001b[0;31mNameError\u001b[0m: name 'percentage' is not defined"
     ]
    }
   ],
   "source": [
    "percentage(get_top3_overlap(a_top5[dataset],h_top5[expname]))"
   ]
  }
 ],
 "metadata": {
  "kernelspec": {
   "display_name": "Python 3",
   "language": "python",
   "name": "python3"
  },
  "language_info": {
   "codemirror_mode": {
    "name": "ipython",
    "version": 3
   },
   "file_extension": ".py",
   "mimetype": "text/x-python",
   "name": "python",
   "nbconvert_exporter": "python",
   "pygments_lexer": "ipython3",
   "version": "3.6.5"
  }
 },
 "nbformat": 4,
 "nbformat_minor": 2
}
